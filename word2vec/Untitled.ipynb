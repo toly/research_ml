{
 "cells": [
  {
   "cell_type": "markdown",
   "metadata": {
    "toc": true
   },
   "source": [
    "<h1>Table of Contents<span class=\"tocSkip\"></span></h1>\n",
    "<div class=\"toc\" style=\"margin-top: 1em;\"><ul class=\"toc-item\"></ul></div>"
   ]
  },
  {
   "cell_type": "code",
   "execution_count": 83,
   "metadata": {
    "ExecuteTime": {
     "end_time": "2018-05-22T18:30:53.831104Z",
     "start_time": "2018-05-22T18:30:53.810990Z"
    }
   },
   "outputs": [],
   "source": [
    "import re\n",
    "import random\n",
    "import numpy as np\n",
    "\n",
    "from sklearn.datasets import fetch_20newsgroups\n",
    "\n",
    "from keras.models import Model\n",
    "from keras.layers import Embedding, Dense, Input, Dot, Multiply, Lambda\n",
    "from keras.layers import dot\n",
    "# from keras"
   ]
  },
  {
   "cell_type": "code",
   "execution_count": 59,
   "metadata": {
    "ExecuteTime": {
     "end_time": "2018-05-22T18:25:04.211639Z",
     "start_time": "2018-05-22T18:25:04.146325Z"
    }
   },
   "outputs": [],
   "source": [
    "dot?"
   ]
  },
  {
   "cell_type": "code",
   "execution_count": 12,
   "metadata": {
    "ExecuteTime": {
     "end_time": "2018-05-22T09:35:57.454561Z",
     "start_time": "2018-05-22T09:35:57.448986Z"
    }
   },
   "outputs": [],
   "source": [
    "WORD_RE = re.compile(r'[a-z]+')"
   ]
  },
  {
   "cell_type": "code",
   "execution_count": 3,
   "metadata": {
    "ExecuteTime": {
     "end_time": "2018-05-22T09:31:36.839763Z",
     "start_time": "2018-05-22T09:31:36.557626Z"
    }
   },
   "outputs": [],
   "source": [
    "data = fetch_20newsgroups()"
   ]
  },
  {
   "cell_type": "code",
   "execution_count": 4,
   "metadata": {
    "ExecuteTime": {
     "end_time": "2018-05-22T09:31:40.975724Z",
     "start_time": "2018-05-22T09:31:40.970489Z"
    }
   },
   "outputs": [
    {
     "data": {
      "text/plain": [
       "dict_keys(['data', 'filenames', 'target_names', 'target', 'DESCR', 'description'])"
      ]
     },
     "execution_count": 4,
     "metadata": {},
     "output_type": "execute_result"
    }
   ],
   "source": [
    "data.keys()"
   ]
  },
  {
   "cell_type": "code",
   "execution_count": 8,
   "metadata": {
    "ExecuteTime": {
     "end_time": "2018-05-22T09:34:06.879834Z",
     "start_time": "2018-05-22T09:34:06.826763Z"
    }
   },
   "outputs": [],
   "source": [
    "texts = list(map(lambda x: x.lower(), data['data']))"
   ]
  },
  {
   "cell_type": "code",
   "execution_count": 13,
   "metadata": {
    "ExecuteTime": {
     "end_time": "2018-05-22T09:42:29.386536Z",
     "start_time": "2018-05-22T09:42:27.225339Z"
    }
   },
   "outputs": [],
   "source": [
    "VOCABULARY = []\n",
    "for text in texts:\n",
    "    VOCABULARY += WORD_RE.findall(text)\n",
    "VOCABULARY = list(set(VOCABULARY))\n",
    "VOCABULARY.sort()\n",
    "WORD2IND = {word: i for i, word in enumerate(VOCABULARY)}"
   ]
  },
  {
   "cell_type": "code",
   "execution_count": 28,
   "metadata": {
    "ExecuteTime": {
     "end_time": "2018-05-22T11:12:32.250021Z",
     "start_time": "2018-05-22T11:12:32.242698Z"
    }
   },
   "outputs": [],
   "source": [
    "INDEXES = list(range(len(VOCABULARY)))"
   ]
  },
  {
   "cell_type": "code",
   "execution_count": 91,
   "metadata": {
    "ExecuteTime": {
     "end_time": "2018-05-22T18:32:45.297624Z",
     "start_time": "2018-05-22T18:32:45.199557Z"
    }
   },
   "outputs": [],
   "source": [
    "word_input = Input(shape=(1, ))\n",
    "word_embedding = Embedding(input_dim=len(VOCABULARY), output_dim=300)(word_input)\n",
    "\n",
    "context_input = Input(shape=(1, ))\n",
    "context_embedding = Embedding(input_dim=len(VOCABULARY), output_dim=300)(context_input)\n",
    "\n",
    "merge = Multiply()([context_embedding, word_embedding])\n",
    "t_slice = Lambda(lambda x: x[:, 0, :])(merge)\n",
    "target = Dense(1, activation='sigmoid')(t_slice)\n",
    "\n",
    "model = Model(inputs=[word_input, context_input], outputs=target)"
   ]
  },
  {
   "cell_type": "code",
   "execution_count": 92,
   "metadata": {
    "ExecuteTime": {
     "end_time": "2018-05-22T18:32:45.758836Z",
     "start_time": "2018-05-22T18:32:45.663651Z"
    }
   },
   "outputs": [],
   "source": [
    "model.compile(optimizer='adam', loss='binary_crossentropy', metrics=['accuracy'])"
   ]
  },
  {
   "cell_type": "code",
   "execution_count": 31,
   "metadata": {
    "ExecuteTime": {
     "end_time": "2018-05-22T11:14:44.277842Z",
     "start_time": "2018-05-22T11:13:18.340322Z"
    }
   },
   "outputs": [],
   "source": [
    "WINDOW_SIZE = 5\n",
    "\n",
    "inputs = []\n",
    "contexts = []\n",
    "targets = []\n",
    "for text in texts:\n",
    "    for sentence in text.split('.'):\n",
    "        words = WORD_RE.findall(sentence)\n",
    "        words_indexes = [WORD2IND[word] for word in words]\n",
    "        for i in range(len(words_indexes)):\n",
    "            words_sample = words_indexes[max(0, i - WINDOW_SIZE): i + WINDOW_SIZE]\n",
    "            words_sample = [ind for ind in words_sample if ind != words_indexes[i]]\n",
    "            \n",
    "            if not words_sample:\n",
    "                continue\n",
    "            \n",
    "            # add positive\n",
    "            inputs.append([words_indexes[i]])\n",
    "            contexts.append([random.choice(words_sample)])\n",
    "            targets.append(1)\n",
    "            \n",
    "            # add negatives\n",
    "            for j in range(5):\n",
    "                inputs.append([words_indexes[i]])\n",
    "                contexts.append([random.choice(INDEXES)])\n",
    "                targets.append(0)"
   ]
  },
  {
   "cell_type": "code",
   "execution_count": 38,
   "metadata": {
    "ExecuteTime": {
     "end_time": "2018-05-22T11:20:00.737110Z",
     "start_time": "2018-05-22T11:19:41.328022Z"
    }
   },
   "outputs": [],
   "source": [
    "inputs = np.array(inputs)\n",
    "contexts = np.array(contexts)"
   ]
  },
  {
   "cell_type": "code",
   "execution_count": 94,
   "metadata": {
    "ExecuteTime": {
     "end_time": "2018-05-22T18:33:35.449254Z",
     "start_time": "2018-05-22T18:33:35.446116Z"
    }
   },
   "outputs": [],
   "source": [
    "model.fit([inputs, contexts], targets)"
   ]
  },
  {
   "cell_type": "code",
   "execution_count": null,
   "metadata": {},
   "outputs": [],
   "source": []
  }
 ],
 "metadata": {
  "kernelspec": {
   "display_name": "Python 3",
   "language": "python",
   "name": "python3"
  },
  "language_info": {
   "codemirror_mode": {
    "name": "ipython",
    "version": 3
   },
   "file_extension": ".py",
   "mimetype": "text/x-python",
   "name": "python",
   "nbconvert_exporter": "python",
   "pygments_lexer": "ipython3",
   "version": "3.6.3"
  },
  "toc": {
   "nav_menu": {},
   "number_sections": true,
   "sideBar": true,
   "skip_h1_title": false,
   "toc_cell": true,
   "toc_position": {},
   "toc_section_display": "block",
   "toc_window_display": false
  }
 },
 "nbformat": 4,
 "nbformat_minor": 2
}
