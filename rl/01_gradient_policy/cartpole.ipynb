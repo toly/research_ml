{
 "cells": [
  {
   "cell_type": "markdown",
   "metadata": {
    "toc": true
   },
   "source": [
    "<h1>Table of Contents<span class=\"tocSkip\"></span></h1>\n",
    "<div class=\"toc\" style=\"margin-top: 1em;\"><ul class=\"toc-item\"><li><span><a href=\"#base-research\" data-toc-modified-id=\"base-research-1\"><span class=\"toc-item-num\">1&nbsp;&nbsp;</span>base research</a></span></li><li><span><a href=\"#initial-train\" data-toc-modified-id=\"initial-train-2\"><span class=\"toc-item-num\">2&nbsp;&nbsp;</span>initial train</a></span></li></ul></div>"
   ]
  },
  {
   "cell_type": "code",
   "execution_count": 47,
   "metadata": {
    "ExecuteTime": {
     "end_time": "2018-06-24T18:11:12.395661Z",
     "start_time": "2018-06-24T18:11:11.739382Z"
    }
   },
   "outputs": [],
   "source": [
    "import gym\n",
    "\n",
    "import numpy as np\n",
    "\n",
    "from keras.models import Sequential\n",
    "from keras.layers import Dense\n",
    "\n",
    "import matplotlib.pyplot as plt\n",
    "\n",
    "%matplotlib inline"
   ]
  },
  {
   "cell_type": "markdown",
   "metadata": {},
   "source": [
    "# base research"
   ]
  },
  {
   "cell_type": "code",
   "execution_count": 2,
   "metadata": {
    "ExecuteTime": {
     "end_time": "2018-06-24T17:38:37.669622Z",
     "start_time": "2018-06-24T17:38:37.639899Z"
    }
   },
   "outputs": [
    {
     "name": "stdout",
     "output_type": "stream",
     "text": [
      "\u001b[33mWARN: gym.spaces.Box autodetected dtype as <class 'numpy.float32'>. Please provide explicit dtype.\u001b[0m\n"
     ]
    }
   ],
   "source": [
    "env = gym.make('CartPole-v1')"
   ]
  },
  {
   "cell_type": "code",
   "execution_count": 12,
   "metadata": {
    "ExecuteTime": {
     "end_time": "2018-06-24T17:43:24.888898Z",
     "start_time": "2018-06-24T17:43:24.881161Z"
    }
   },
   "outputs": [
    {
     "data": {
      "text/plain": [
       "Discrete(2)"
      ]
     },
     "execution_count": 12,
     "metadata": {},
     "output_type": "execute_result"
    }
   ],
   "source": [
    "env.action_space"
   ]
  },
  {
   "cell_type": "code",
   "execution_count": 13,
   "metadata": {
    "ExecuteTime": {
     "end_time": "2018-06-24T17:43:57.887446Z",
     "start_time": "2018-06-24T17:43:57.881397Z"
    }
   },
   "outputs": [
    {
     "data": {
      "text/plain": [
       "[1, 1, 1, 1, 0, 0, 1, 0, 1, 1]"
      ]
     },
     "execution_count": 13,
     "metadata": {},
     "output_type": "execute_result"
    }
   ],
   "source": [
    "[env.action_space.sample() for _ in range(10)]"
   ]
  },
  {
   "cell_type": "code",
   "execution_count": 21,
   "metadata": {
    "ExecuteTime": {
     "end_time": "2018-06-24T17:47:05.270113Z",
     "start_time": "2018-06-24T17:47:05.243155Z"
    }
   },
   "outputs": [
    {
     "name": "stdout",
     "output_type": "stream",
     "text": [
      "1.0 [-0.01345072  0.20017473  0.03470455 -0.3188607 ] False\n",
      "1.0 [-0.00944722  0.00457613  0.02832733 -0.01543839] False\n",
      "1.0 [-0.0093557   0.19928063  0.02801856 -0.29905083] False\n",
      "1.0 [-0.00537009  0.00377073  0.02203755  0.00233529] False\n",
      "1.0 [-0.00529467 -0.19166023  0.02208425  0.30188905] False\n",
      "1.0 [-0.00912788  0.00314012  0.02812203  0.01625203] False\n",
      "1.0 [-0.00906507 -0.19237361  0.02844707  0.31767346] False\n",
      "1.0 [-0.01291255 -0.38788894  0.03480054  0.61919011] False\n",
      "1.0 [-0.02067033 -0.58347924  0.04718435  0.92262721] False\n",
      "1.0 [-0.03233991 -0.38902546  0.06563689  0.64513823] False\n",
      "1.0 [-0.04012042 -0.19487662  0.07853965  0.37382546] False\n",
      "1.0 [-0.04401795 -0.39102127  0.08601616  0.69020239] False\n",
      "1.0 [-0.05183838 -0.58722486  0.09982021  1.00867727] False\n",
      "1.0 [-0.06358287 -0.78352733  0.11999376  1.33096364] False\n",
      "1.0 [-0.07925342 -0.59010571  0.14661303  1.07811101] False\n",
      "1.0 [-0.09105554 -0.78682744  0.16817525  1.41297781] False\n",
      "1.0 [-0.10679208 -0.98358666  0.19643481  1.75316355] False\n"
     ]
    }
   ],
   "source": [
    "state = env.reset()\n",
    "\n",
    "for i in range(200):\n",
    "    state, reward, done, _ = env.step(env.action_space.sample())\n",
    "    if reward == 0 or done:\n",
    "        break\n",
    "    print(reward, state, done)"
   ]
  },
  {
   "cell_type": "markdown",
   "metadata": {
    "ExecuteTime": {
     "end_time": "2018-06-24T17:39:32.953200Z",
     "start_time": "2018-06-24T17:39:32.945723Z"
    }
   },
   "source": [
    "# initial train"
   ]
  },
  {
   "cell_type": "code",
   "execution_count": 44,
   "metadata": {
    "ExecuteTime": {
     "end_time": "2018-06-24T18:09:33.490623Z",
     "start_time": "2018-06-24T18:09:33.402877Z"
    }
   },
   "outputs": [],
   "source": [
    "model = Sequential()\n",
    "model.add(Dense(1, activation='sigmoid', input_shape=(4, )))\n",
    "\n",
    "model.compile(optimizer='adam', loss='binary_crossentropy')"
   ]
  },
  {
   "cell_type": "code",
   "execution_count": 45,
   "metadata": {
    "ExecuteTime": {
     "end_time": "2018-06-24T18:10:48.730436Z",
     "start_time": "2018-06-24T18:09:33.830613Z"
    }
   },
   "outputs": [
    {
     "name": "stdout",
     "output_type": "stream",
     "text": [
      "epoch reward 0 1957.0\n",
      "epoch reward 10 1806.0\n",
      "epoch reward 20 1706.0\n",
      "epoch reward 30 1709.0\n",
      "epoch reward 40 1792.0\n",
      "epoch reward 50 1832.0\n",
      "epoch reward 60 1869.0\n",
      "epoch reward 70 1920.0\n",
      "epoch reward 80 1899.0\n",
      "epoch reward 90 1826.0\n"
     ]
    }
   ],
   "source": [
    "EPOCHS = 1000\n",
    "GAMES = 10\n",
    "ITERATIONS = 200\n",
    "\n",
    "epoch_rewards = []\n",
    "for epoch_no in range(EPOCHS):\n",
    "    \n",
    "#     print('epoch', epoch_no)\n",
    "    \n",
    "    X_epoch = []\n",
    "    Y_epoch = []\n",
    "    \n",
    "    game_rewards = []\n",
    "    for game_no in range(GAMES):\n",
    "        \n",
    "        state = env.reset()\n",
    "        \n",
    "        game_states = []\n",
    "        game_actions = []\n",
    "        \n",
    "        for iter_no in range(ITERATIONS):\n",
    "            \n",
    "            game_states.append(state)\n",
    "            \n",
    "            action_predict = model.predict(np.array([state]))\n",
    "            action = int(action_predict[0][0] > 0.5)\n",
    "            \n",
    "            game_actions.append(action)\n",
    "\n",
    "            state, reward, done, _ = env.step(action)\n",
    "            \n",
    "            game_rewards.append(reward)\n",
    "            \n",
    "            if reward == 0 or done:\n",
    "                break\n",
    "        \n",
    "        X_epoch += game_states\n",
    "        if reward == 0:\n",
    "            # fix actions\n",
    "            game_actions = [1 - action for action in game_actions]\n",
    "        Y_epoch += game_actions\n",
    "    \n",
    "    X_epoch = np.array(X_epoch)\n",
    "    Y_epoch = np.array(Y_epoch)\n",
    "    \n",
    "    epoch_rewards.append(sum(game_rewards))\n",
    "    if epoch_no % 10 == 0:\n",
    "        print('epoch reward', epoch_no, sum(game_rewards))\n",
    "    \n",
    "    model.train_on_batch(X_epoch, Y_epoch)"
   ]
  },
  {
   "cell_type": "code",
   "execution_count": 48,
   "metadata": {
    "ExecuteTime": {
     "end_time": "2018-06-24T18:11:22.626408Z",
     "start_time": "2018-06-24T18:11:22.383443Z"
    }
   },
   "outputs": [
    {
     "data": {
      "text/plain": [
       "[<matplotlib.lines.Line2D at 0x11ec446d8>]"
      ]
     },
     "execution_count": 48,
     "metadata": {},
     "output_type": "execute_result"
    },
    {
     "data": {
      "image/png": "[encoded data removed]",
      "text/plain": [
       "<matplotlib.figure.Figure at 0x11d786208>"
      ]
     },
     "metadata": {},
     "output_type": "display_data"
    }
   ],
   "source": [
    "plt.plot(epoch_rewards)"
   ]
  },
  {
   "cell_type": "code",
   "execution_count": null,
   "metadata": {},
   "outputs": [],
   "source": []
  }
 ],
 "metadata": {
  "kernelspec": {
   "display_name": "Python 3",
   "language": "python",
   "name": "python3"
  },
  "language_info": {
   "codemirror_mode": {
    "name": "ipython",
    "version": 3
   },
   "file_extension": ".py",
   "mimetype": "text/x-python",
   "name": "python",
   "nbconvert_exporter": "python",
   "pygments_lexer": "ipython3",
   "version": "3.6.3"
  },
  "toc": {
   "nav_menu": {},
   "number_sections": true,
   "sideBar": true,
   "skip_h1_title": false,
   "toc_cell": true,
   "toc_position": {},
   "toc_section_display": "block",
   "toc_window_display": false
  }
 },
 "nbformat": 4,
 "nbformat_minor": 2
}
