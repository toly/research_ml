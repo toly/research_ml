{
 "cells": [
  {
   "cell_type": "markdown",
   "metadata": {
    "toc": true
   },
   "source": [
    "<h1>Table of Contents<span class=\"tocSkip\"></span></h1>\n",
    "<div class=\"toc\" style=\"margin-top: 1em;\"><ul class=\"toc-item\"><li><span><a href=\"#base-linear\" data-toc-modified-id=\"base-linear-1\"><span class=\"toc-item-num\">1&nbsp;&nbsp;</span>base linear</a></span></li><li><span><a href=\"#base-keras\" data-toc-modified-id=\"base-keras-2\"><span class=\"toc-item-num\">2&nbsp;&nbsp;</span>base keras</a></span></li></ul></div>"
   ]
  },
  {
   "cell_type": "code",
   "execution_count": 50,
   "metadata": {
    "ExecuteTime": {
     "end_time": "2017-11-21T19:35:06.110624Z",
     "start_time": "2017-11-21T19:35:06.076439Z"
    }
   },
   "outputs": [],
   "source": [
    "import numpy as np\n",
    "import seaborn as sns\n",
    "import matplotlib.pyplot as plt\n",
    "\n",
    "from sklearn.cross_validation import cross_val_score, StratifiedKFold\n",
    "from sklearn.linear_model import LogisticRegression\n",
    "from sklearn.datasets import load_iris\n",
    "\n",
    "from keras.models import Sequential\n",
    "from keras.layers import Dense, Activation\n",
    "from keras.wrappers.scikit_learn import KerasClassifier\n",
    "\n",
    "sns.set()\n",
    "\n",
    "RANDOM = 1\n",
    "\n",
    "%matplotlib inline"
   ]
  },
  {
   "cell_type": "code",
   "execution_count": 47,
   "metadata": {
    "ExecuteTime": {
     "end_time": "2017-11-21T19:34:23.039295Z",
     "start_time": "2017-11-21T19:34:23.029707Z"
    }
   },
   "outputs": [
    {
     "name": "stdout",
     "output_type": "stream",
     "text": [
      "keys: dict_keys(['data', 'target', 'target_names', 'DESCR', 'feature_names'])\n",
      "classes: {0, 1, 2}\n"
     ]
    }
   ],
   "source": [
    "data = load_iris()\n",
    "\n",
    "print('keys:', data.keys())\n",
    "print('classes:', set(data['target']))"
   ]
  },
  {
   "cell_type": "markdown",
   "metadata": {},
   "source": [
    "# base linear"
   ]
  },
  {
   "cell_type": "code",
   "execution_count": 16,
   "metadata": {
    "ExecuteTime": {
     "end_time": "2017-11-21T19:12:42.535231Z",
     "start_time": "2017-11-21T19:12:42.518297Z"
    }
   },
   "outputs": [
    {
     "name": "stdout",
     "output_type": "stream",
     "text": [
      "0.933333333333\n",
      "1.0\n",
      "0.966666666667\n",
      "0.933333333333\n",
      "0.966666666667\n"
     ]
    }
   ],
   "source": [
    "model1 = LogisticRegression()\n",
    "cv = StratifiedKFold(n_folds=5, y=data['target'], shuffle=True, random_state=RANDOM)\n",
    "for score in cross_val_score(model1, data['data'], data['target'], cv=cv):\n",
    "    print(score)"
   ]
  },
  {
   "cell_type": "markdown",
   "metadata": {},
   "source": [
    "# base keras"
   ]
  },
  {
   "cell_type": "code",
   "execution_count": 36,
   "metadata": {
    "ExecuteTime": {
     "end_time": "2017-11-21T19:24:59.514290Z",
     "start_time": "2017-11-21T19:24:48.119495Z"
    }
   },
   "outputs": [
    {
     "name": "stdout",
     "output_type": "stream",
     "text": [
      "0.966666638851\n",
      "0.966666638851\n",
      "0.933333337307\n",
      "0.966666638851\n",
      "1.0\n"
     ]
    }
   ],
   "source": [
    "def make_model():\n",
    "    np.random.seed(RANDOM)\n",
    "    \n",
    "    model = Sequential()\n",
    "    model.add(Dense(8, input_shape=(4, )))\n",
    "    model.add(Dense(3))\n",
    "    model.add(Activation('softmax'))\n",
    "    \n",
    "    model.compile(loss='categorical_crossentropy', optimizer='adam', metrics=['accuracy'])\n",
    "    return model\n",
    "\n",
    "model2 = KerasClassifier(build_fn=make_model, epochs=100, verbose=0)\n",
    "\n",
    "for score in cross_val_score(model2, data['data'], data['target'], cv=cv):\n",
    "    print(score)"
   ]
  },
  {
   "cell_type": "code",
   "execution_count": 54,
   "metadata": {
    "ExecuteTime": {
     "end_time": "2017-11-21T19:37:01.876285Z",
     "start_time": "2017-11-21T19:36:44.412630Z"
    }
   },
   "outputs": [
    {
     "name": "stdout",
     "output_type": "stream",
     "text": [
      "0.966666638851\n",
      "0.966666638851\n",
      "0.933333337307\n",
      "0.966666638851\n",
      "1.0\n"
     ]
    }
   ],
   "source": [
    "def make_model():\n",
    "    np.random.seed(RANDOM)\n",
    "    \n",
    "    model = Sequential()\n",
    "    model.add(Dense(8, input_shape=(4, )))\n",
    "    model.add(Dense(3))\n",
    "    model.add(Activation('softmax'))\n",
    "    \n",
    "    model.compile(loss='categorical_crossentropy', optimizer='adam', metrics=['accuracy'])\n",
    "    return model\n",
    "\n",
    "model2 = KerasClassifier(build_fn=make_model, epochs=100, verbose=0)\n",
    "\n",
    "scores = []\n",
    "for score in cross_val_score(model2, data['data'], data['target'], cv=cv):\n",
    "    scores.append(score)\n",
    "    print(score)"
   ]
  },
  {
   "cell_type": "code",
   "execution_count": 53,
   "metadata": {
    "ExecuteTime": {
     "end_time": "2017-11-21T19:36:00.943544Z",
     "start_time": "2017-11-21T19:36:00.781316Z"
    }
   },
   "outputs": [
    {
     "data": {
      "image/png": "[encoded data removed]",
      "text/plain": [
       "<matplotlib.figure.Figure at 0x139ade8d0>"
      ]
     },
     "metadata": {},
     "output_type": "display_data"
    }
   ],
   "source": [
    "plt.plot(np.arange(5), scores)\n",
    "plt.ylim(ymin=0)\n",
    "plt.show()"
   ]
  },
  {
   "cell_type": "code",
   "execution_count": null,
   "metadata": {},
   "outputs": [],
   "source": []
  }
 ],
 "metadata": {
  "kernelspec": {
   "display_name": "Python 3",
   "language": "python",
   "name": "python3"
  },
  "language_info": {
   "codemirror_mode": {
    "name": "ipython",
    "version": 3
   },
   "file_extension": ".py",
   "mimetype": "text/x-python",
   "name": "python",
   "nbconvert_exporter": "python",
   "pygments_lexer": "ipython3",
   "version": "3.6.3"
  },
  "toc": {
   "nav_menu": {},
   "number_sections": true,
   "sideBar": true,
   "skip_h1_title": false,
   "toc_cell": true,
   "toc_position": {},
   "toc_section_display": "block",
   "toc_window_display": true
  }
 },
 "nbformat": 4,
 "nbformat_minor": 2
}
