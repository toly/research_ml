{
 "cells": [
  {
   "cell_type": "markdown",
   "metadata": {
    "toc": true
   },
   "source": [
    "<h1>Table of Contents<span class=\"tocSkip\"></span></h1>\n",
    "<div class=\"toc\" style=\"margin-top: 1em;\"><ul class=\"toc-item\"></ul></div>"
   ]
  },
  {
   "cell_type": "code",
   "execution_count": 5,
   "metadata": {
    "ExecuteTime": {
     "end_time": "2018-03-24T15:01:47.848299Z",
     "start_time": "2018-03-24T15:01:47.838699Z"
    }
   },
   "outputs": [],
   "source": [
    "import numpy as np\n",
    "from keras.applications import VGG16\n",
    "from keras.models import Sequential, Model\n",
    "from keras.layers import Dense, Activation, Input, Conv2D, MaxPool2D, UpSampling2D, Flatten, Reshape\n",
    "from keras.datasets import mnist\n",
    "import matplotlib.pyplot as plt\n",
    "from PIL import Image\n",
    "%matplotlib inline"
   ]
  },
  {
   "cell_type": "code",
   "execution_count": 18,
   "metadata": {
    "ExecuteTime": {
     "end_time": "2018-03-24T14:33:06.145167Z",
     "start_time": "2018-03-24T14:33:05.864686Z"
    }
   },
   "outputs": [],
   "source": [
    "(x_train, y_train), (x_test, y_test) = mnist.load_data()"
   ]
  },
  {
   "cell_type": "code",
   "execution_count": 19,
   "metadata": {
    "ExecuteTime": {
     "end_time": "2018-03-24T14:33:06.807911Z",
     "start_time": "2018-03-24T14:33:06.804392Z"
    }
   },
   "outputs": [],
   "source": [
    "x_train = np.reshape(x_train, (len(x_train), 28, 28, 1))\n",
    "x_test = np.reshape(x_test, (len(x_test), 28, 28, 1))"
   ]
  },
  {
   "cell_type": "code",
   "execution_count": 20,
   "metadata": {
    "ExecuteTime": {
     "end_time": "2018-03-24T14:33:18.200646Z",
     "start_time": "2018-03-24T14:33:17.947573Z"
    }
   },
   "outputs": [],
   "source": [
    "x_train = x_train.astype('float') / 255.\n",
    "x_test = x_test.astype('float') / 255."
   ]
  },
  {
   "cell_type": "code",
   "execution_count": 57,
   "metadata": {
    "ExecuteTime": {
     "end_time": "2018-03-24T14:50:43.725360Z",
     "start_time": "2018-03-24T14:50:43.682785Z"
    }
   },
   "outputs": [],
   "source": [
    "def make_autoencoder(n=100):\n",
    "    \n",
    "    enc_inp = Input(shape=(28, 28, 1))\n",
    "    enc_conv1 = Conv2D(32, 7, activation='relu', padding='same')(enc_inp)\n",
    "    enc_pool1 = MaxPool2D(2,  padding='same')(enc_conv1)\n",
    "    enc_conv2 = Conv2D(32, 3, activation='relu',  padding='same')(enc_pool1)\n",
    "    enc_pool2 = MaxPool2D(2,  padding='same')(enc_conv2)\n",
    "    enc_conv3 = Conv2D(1, 7, activation='relu',  padding='same')(enc_pool2)\n",
    "    enc_flatten = Flatten()(enc_conv3)\n",
    "    encoder = Model(inputs=enc_inp, outputs=enc_flatten)\n",
    "    \n",
    "    dec_inp = Input(shape=(49, ))\n",
    "    dec_reshape = Reshape((7, 7, 1))(dec_inp)\n",
    "    dec_conv1 = Conv2D(32, 7, activation='relu',  padding='same')(dec_reshape)\n",
    "    dec_up1 = UpSampling2D((2, 2))(dec_conv1)\n",
    "    dec_conv2 = Conv2D(128, 2, activation='relu',  padding='same')(dec_up1)\n",
    "    dec_up2 = UpSampling2D((2, 2))(dec_conv2)\n",
    "    dec_conv3 = Conv2D(1, (7, 7), padding='same', activation='sigmoid')(dec_up2)\n",
    "    decoder = Model(inputs=dec_inp, outputs=dec_conv3)\n",
    "    \n",
    "    autoenc = Model(inputs=enc_inp, outputs=decoder(encoder(enc_inp)))\n",
    "    \n",
    "    return encoder, decoder, autoenc"
   ]
  },
  {
   "cell_type": "code",
   "execution_count": 58,
   "metadata": {
    "ExecuteTime": {
     "end_time": "2018-03-24T14:50:44.321973Z",
     "start_time": "2018-03-24T14:50:44.192731Z"
    }
   },
   "outputs": [],
   "source": [
    "enc, dec, autoenc = make_autoencoder()"
   ]
  },
  {
   "cell_type": "code",
   "execution_count": 59,
   "metadata": {
    "ExecuteTime": {
     "end_time": "2018-03-24T14:50:44.786475Z",
     "start_time": "2018-03-24T14:50:44.752491Z"
    }
   },
   "outputs": [],
   "source": [
    "autoenc.compile(optimizer='adam', loss='binary_crossentropy')"
   ]
  },
  {
   "cell_type": "code",
   "execution_count": 60,
   "metadata": {
    "ExecuteTime": {
     "end_time": "2018-03-24T14:58:45.107157Z",
     "start_time": "2018-03-24T14:50:45.255987Z"
    }
   },
   "outputs": [
    {
     "name": "stdout",
     "output_type": "stream",
     "text": [
      "Train on 60000 samples, validate on 10000 samples\n",
      "Epoch 1/10\n",
      "60000/60000 [==============================] - 49s 808us/step - loss: 0.1029 - val_loss: 0.0798\n",
      "Epoch 2/10\n",
      "60000/60000 [==============================] - 48s 804us/step - loss: 0.0781 - val_loss: 0.0750\n",
      "Epoch 3/10\n",
      "60000/60000 [==============================] - 48s 804us/step - loss: 0.0752 - val_loss: 0.0745\n",
      "Epoch 4/10\n",
      "60000/60000 [==============================] - 48s 802us/step - loss: 0.0737 - val_loss: 0.0723\n",
      "Epoch 5/10\n",
      "60000/60000 [==============================] - 48s 799us/step - loss: 0.0728 - val_loss: 0.0721\n",
      "Epoch 6/10\n",
      "60000/60000 [==============================] - 48s 798us/step - loss: 0.0721 - val_loss: 0.0711\n",
      "Epoch 7/10\n",
      "60000/60000 [==============================] - 48s 796us/step - loss: 0.0717 - val_loss: 0.0710\n",
      "Epoch 8/10\n",
      "60000/60000 [==============================] - 48s 794us/step - loss: 0.0713 - val_loss: 0.0704\n",
      "Epoch 9/10\n",
      "60000/60000 [==============================] - 48s 793us/step - loss: 0.0711 - val_loss: 0.0703\n",
      "Epoch 10/10\n",
      "60000/60000 [==============================] - 48s 792us/step - loss: 0.0708 - val_loss: 0.0700\n"
     ]
    }
   ],
   "source": [
    "history = autoenc.fit(x_train, x_train, validation_data=[x_test, x_test], epochs=10)"
   ]
  },
  {
   "cell_type": "code",
   "execution_count": 61,
   "metadata": {
    "ExecuteTime": {
     "end_time": "2018-03-24T14:58:48.807215Z",
     "start_time": "2018-03-24T14:58:48.655246Z"
    }
   },
   "outputs": [],
   "source": [
    "v = enc.predict(x_test[0:1])"
   ]
  },
  {
   "cell_type": "code",
   "execution_count": 62,
   "metadata": {
    "ExecuteTime": {
     "end_time": "2018-03-24T14:58:49.682979Z",
     "start_time": "2018-03-24T14:58:49.679485Z"
    }
   },
   "outputs": [],
   "source": [
    "a = np.array([x_test[0], x_test[0], x_test[0]])"
   ]
  },
  {
   "cell_type": "code",
   "execution_count": 63,
   "metadata": {
    "ExecuteTime": {
     "end_time": "2018-03-24T14:58:50.297765Z",
     "start_time": "2018-03-24T14:58:50.295511Z"
    }
   },
   "outputs": [],
   "source": [
    "a = x_test[0]"
   ]
  },
  {
   "cell_type": "code",
   "execution_count": 64,
   "metadata": {
    "ExecuteTime": {
     "end_time": "2018-03-24T14:58:50.730858Z",
     "start_time": "2018-03-24T14:58:50.727136Z"
    }
   },
   "outputs": [],
   "source": [
    "a = a.reshape((28, 28))"
   ]
  },
  {
   "cell_type": "code",
   "execution_count": 65,
   "metadata": {
    "ExecuteTime": {
     "end_time": "2018-03-24T14:58:52.719496Z",
     "start_time": "2018-03-24T14:58:52.567997Z"
    }
   },
   "outputs": [
    {
     "data": {
      "image/png": "[encoded data removed]",
      "text/plain": [
       "<Figure size 432x288 with 1 Axes>"
      ]
     },
     "metadata": {},
     "output_type": "display_data"
    }
   ],
   "source": [
    "plt.imshow(a)\n",
    "plt.gray()"
   ]
  },
  {
   "cell_type": "code",
   "execution_count": 66,
   "metadata": {
    "ExecuteTime": {
     "end_time": "2018-03-24T14:58:56.262142Z",
     "start_time": "2018-03-24T14:58:56.105299Z"
    }
   },
   "outputs": [],
   "source": [
    "new = autoenc.predict(x_test[0:1])"
   ]
  },
  {
   "cell_type": "code",
   "execution_count": 67,
   "metadata": {
    "ExecuteTime": {
     "end_time": "2018-03-24T14:58:57.970171Z",
     "start_time": "2018-03-24T14:58:57.827421Z"
    }
   },
   "outputs": [
    {
     "data": {
      "image/png": "[encoded data removed]",
      "text/plain": [
       "<Figure size 432x288 with 1 Axes>"
      ]
     },
     "metadata": {},
     "output_type": "display_data"
    }
   ],
   "source": [
    "plt.imshow(new.reshape((28, 28)) / 255)\n",
    "plt.gray()"
   ]
  },
  {
   "cell_type": "code",
   "execution_count": 68,
   "metadata": {
    "ExecuteTime": {
     "end_time": "2018-03-24T14:59:45.607410Z",
     "start_time": "2018-03-24T14:59:45.604777Z"
    }
   },
   "outputs": [],
   "source": [
    "from keras.applications import VGG16"
   ]
  },
  {
   "cell_type": "code",
   "execution_count": 69,
   "metadata": {
    "ExecuteTime": {
     "end_time": "2018-03-24T14:59:52.969739Z",
     "start_time": "2018-03-24T14:59:52.964993Z"
    }
   },
   "outputs": [],
   "source": [
    "VGG16?"
   ]
  },
  {
   "cell_type": "code",
   "execution_count": 6,
   "metadata": {
    "ExecuteTime": {
     "end_time": "2018-03-24T15:01:51.541253Z",
     "start_time": "2018-03-24T15:01:50.624365Z"
    }
   },
   "outputs": [],
   "source": [
    "app = VGG16(include_top=False)"
   ]
  },
  {
   "cell_type": "code",
   "execution_count": 7,
   "metadata": {
    "ExecuteTime": {
     "end_time": "2018-03-24T15:02:26.744547Z",
     "start_time": "2018-03-24T15:02:26.670221Z"
    }
   },
   "outputs": [],
   "source": [
    "img = Image.open('../fornit/data/images/aaadecor/BL2rXg_gYen.jpg')"
   ]
  },
  {
   "cell_type": "code",
   "execution_count": 10,
   "metadata": {
    "ExecuteTime": {
     "end_time": "2018-03-24T15:03:13.058925Z",
     "start_time": "2018-03-24T15:03:13.056069Z"
    }
   },
   "outputs": [],
   "source": [
    "img = np.array([np.array(img)])"
   ]
  },
  {
   "cell_type": "code",
   "execution_count": 13,
   "metadata": {
    "ExecuteTime": {
     "end_time": "2018-03-24T15:03:40.726601Z",
     "start_time": "2018-03-24T15:03:40.706078Z"
    }
   },
   "outputs": [
    {
     "data": {
      "text/plain": [
       "179.16473"
      ]
     },
     "execution_count": 13,
     "metadata": {},
     "output_type": "execute_result"
    }
   ],
   "source": [
    "app.predict(img).max()"
   ]
  },
  {
   "cell_type": "code",
   "execution_count": 15,
   "metadata": {
    "ExecuteTime": {
     "end_time": "2018-03-24T15:06:08.396253Z",
     "start_time": "2018-03-24T15:06:08.368375Z"
    }
   },
   "outputs": [
    {
     "data": {
      "text/plain": [
       "array([[[[0.7712316 , 0.        , 0.        , ..., 0.        ,\n",
       "          0.        , 0.        ],\n",
       "         [0.6888682 , 0.        , 0.        , ..., 0.        ,\n",
       "          0.        , 0.        ],\n",
       "         [0.33957708, 0.        , 0.        , ..., 0.        ,\n",
       "          0.        , 0.        ],\n",
       "         [0.19818062, 0.        , 0.02692276, ..., 0.        ,\n",
       "          0.        , 0.        ]],\n",
       "\n",
       "        [[0.        , 0.        , 0.        , ..., 0.        ,\n",
       "          0.        , 0.        ],\n",
       "         [0.        , 0.        , 0.09795427, ..., 0.        ,\n",
       "          0.12180364, 0.        ],\n",
       "         [0.        , 0.        , 0.34847212, ..., 0.        ,\n",
       "          0.54899925, 0.        ],\n",
       "         [0.        , 0.        , 0.23030087, ..., 0.        ,\n",
       "          0.21671158, 0.        ]],\n",
       "\n",
       "        [[0.        , 0.        , 0.        , ..., 0.        ,\n",
       "          0.        , 0.        ],\n",
       "         [0.        , 0.        , 0.85681236, ..., 0.        ,\n",
       "          0.41457278, 0.        ],\n",
       "         [0.        , 0.        , 0.79794765, ..., 0.        ,\n",
       "          0.7073604 , 0.        ],\n",
       "         [0.        , 0.        , 0.3136595 , ..., 0.        ,\n",
       "          0.1984804 , 0.        ]],\n",
       "\n",
       "        [[0.        , 0.        , 0.        , ..., 0.        ,\n",
       "          0.        , 0.        ],\n",
       "         [0.        , 0.        , 1.0172733 , ..., 0.        ,\n",
       "          0.28463376, 0.        ],\n",
       "         [0.        , 0.        , 0.7017575 , ..., 0.        ,\n",
       "          0.60798585, 0.        ],\n",
       "         [0.60422605, 0.        , 0.2866701 , ..., 0.        ,\n",
       "          0.40832612, 0.        ]]]], dtype=float32)"
      ]
     },
     "execution_count": 15,
     "metadata": {},
     "output_type": "execute_result"
    }
   ],
   "source": [
    "app.predict(img / 255.)"
   ]
  },
  {
   "cell_type": "code",
   "execution_count": 9,
   "metadata": {
    "ExecuteTime": {
     "end_time": "2018-03-24T15:02:42.034728Z",
     "start_time": "2018-03-24T15:02:42.028691Z"
    }
   },
   "outputs": [
    {
     "data": {
      "text/plain": [
       "array([[[0.11372549, 0.11764706, 0.05490196],\n",
       "        [0.10196078, 0.10588235, 0.05098039],\n",
       "        [0.07058824, 0.07843137, 0.02745098],\n",
       "        ...,\n",
       "        [0.38823529, 0.28627451, 0.28235294],\n",
       "        [0.51372549, 0.41176471, 0.40784314],\n",
       "        [0.50588235, 0.40392157, 0.4       ]],\n",
       "\n",
       "       [[0.10588235, 0.10980392, 0.04705882],\n",
       "        [0.0627451 , 0.06666667, 0.01176471],\n",
       "        [0.11372549, 0.12156863, 0.07058824],\n",
       "        ...,\n",
       "        [0.83921569, 0.76078431, 0.66666667],\n",
       "        [0.87843137, 0.8       , 0.70588235],\n",
       "        [0.80784314, 0.72941176, 0.63529412]],\n",
       "\n",
       "       [[0.09803922, 0.10196078, 0.03921569],\n",
       "        [0.08627451, 0.09019608, 0.03529412],\n",
       "        [0.12156863, 0.12941176, 0.07843137],\n",
       "        ...,\n",
       "        [0.64313725, 0.58039216, 0.44705882],\n",
       "        [0.57647059, 0.52156863, 0.38431373],\n",
       "        [0.63529412, 0.58039216, 0.44313725]],\n",
       "\n",
       "       ...,\n",
       "\n",
       "       [[0.05882353, 0.05098039, 0.00392157],\n",
       "        [0.06666667, 0.06666667, 0.02745098],\n",
       "        [0.05490196, 0.05490196, 0.02352941],\n",
       "        ...,\n",
       "        [0.50196078, 0.36078431, 0.23529412],\n",
       "        [0.50980392, 0.37254902, 0.24705882],\n",
       "        [0.74117647, 0.60392157, 0.47843137]],\n",
       "\n",
       "       [[0.0627451 , 0.05490196, 0.00784314],\n",
       "        [0.06666667, 0.06666667, 0.02745098],\n",
       "        [0.05490196, 0.05490196, 0.02352941],\n",
       "        ...,\n",
       "        [0.69803922, 0.54509804, 0.42352941],\n",
       "        [0.50196078, 0.34901961, 0.22745098],\n",
       "        [0.67843137, 0.51764706, 0.4       ]],\n",
       "\n",
       "       [[0.07058824, 0.0627451 , 0.01568627],\n",
       "        [0.06666667, 0.06666667, 0.02745098],\n",
       "        [0.05490196, 0.05490196, 0.02352941],\n",
       "        ...,\n",
       "        [0.74117647, 0.56862745, 0.45490196],\n",
       "        [0.55686275, 0.37647059, 0.2745098 ],\n",
       "        [0.4627451 , 0.28235294, 0.18039216]]])"
      ]
     },
     "execution_count": 9,
     "metadata": {},
     "output_type": "execute_result"
    }
   ],
   "source": [
    "np.array(img) / 255."
   ]
  },
  {
   "cell_type": "code",
   "execution_count": null,
   "metadata": {},
   "outputs": [],
   "source": []
  }
 ],
 "metadata": {
  "kernelspec": {
   "display_name": "Python 3",
   "language": "python",
   "name": "python3"
  },
  "language_info": {
   "codemirror_mode": {
    "name": "ipython",
    "version": 3
   },
   "file_extension": ".py",
   "mimetype": "text/x-python",
   "name": "python",
   "nbconvert_exporter": "python",
   "pygments_lexer": "ipython3",
   "version": "3.5.3"
  },
  "toc": {
   "nav_menu": {},
   "number_sections": true,
   "sideBar": true,
   "skip_h1_title": false,
   "toc_cell": true,
   "toc_position": {},
   "toc_section_display": "block",
   "toc_window_display": false
  }
 },
 "nbformat": 4,
 "nbformat_minor": 2
}
