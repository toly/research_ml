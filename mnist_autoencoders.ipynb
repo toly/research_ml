{
 "cells": [
  {
   "cell_type": "markdown",
   "metadata": {
    "toc": true
   },
   "source": [
    "<h1>Table of Contents<span class=\"tocSkip\"></span></h1>\n",
    "<div class=\"toc\" style=\"margin-top: 1em;\"><ul class=\"toc-item\"></ul></div>"
   ]
  },
  {
   "cell_type": "code",
   "execution_count": 28,
   "metadata": {
    "ExecuteTime": {
     "end_time": "2018-03-24T13:52:06.074470Z",
     "start_time": "2018-03-24T13:52:06.065952Z"
    }
   },
   "outputs": [],
   "source": [
    "import numpy as np\n",
    "from keras.models import Sequential, Model\n",
    "from keras.layers import Dense, Activation, Input, Conv2D, MaxPool2D, UpSampling2D, Flatten, Reshape\n",
    "from keras.datasets import mnist"
   ]
  },
  {
   "cell_type": "code",
   "execution_count": 4,
   "metadata": {
    "ExecuteTime": {
     "end_time": "2018-03-24T13:36:28.894613Z",
     "start_time": "2018-03-24T13:36:28.540670Z"
    }
   },
   "outputs": [],
   "source": [
    "(x_train, y_train), (x_test, y_test) = mnist.load_data()"
   ]
  },
  {
   "cell_type": "code",
   "execution_count": 6,
   "metadata": {
    "ExecuteTime": {
     "end_time": "2018-03-24T13:36:40.270562Z",
     "start_time": "2018-03-24T13:36:40.263359Z"
    }
   },
   "outputs": [
    {
     "data": {
      "text/plain": [
       "(60000, 28, 28)"
      ]
     },
     "execution_count": 6,
     "metadata": {},
     "output_type": "execute_result"
    }
   ],
   "source": [
    "x_train.shape"
   ]
  },
  {
   "cell_type": "code",
   "execution_count": 29,
   "metadata": {
    "ExecuteTime": {
     "end_time": "2018-03-24T13:52:30.734325Z",
     "start_time": "2018-03-24T13:52:30.728376Z"
    }
   },
   "outputs": [],
   "source": [
    "x_train = np.reshape(x_train, (len(x_train), 28, 28, 1))"
   ]
  },
  {
   "cell_type": "code",
   "execution_count": 82,
   "metadata": {
    "ExecuteTime": {
     "end_time": "2018-03-24T14:21:02.706956Z",
     "start_time": "2018-03-24T14:21:02.308227Z"
    }
   },
   "outputs": [],
   "source": [
    "x_train = x_train.astype('float') / 255."
   ]
  },
  {
   "cell_type": "code",
   "execution_count": 14,
   "metadata": {
    "ExecuteTime": {
     "end_time": "2018-03-24T13:41:15.270802Z",
     "start_time": "2018-03-24T13:41:15.261381Z"
    }
   },
   "outputs": [],
   "source": [
    "Conv2D?"
   ]
  },
  {
   "cell_type": "code",
   "execution_count": 52,
   "metadata": {
    "ExecuteTime": {
     "end_time": "2018-03-24T14:04:24.265570Z",
     "start_time": "2018-03-24T14:04:24.252706Z"
    }
   },
   "outputs": [],
   "source": [
    "MaxPool2D?"
   ]
  },
  {
   "cell_type": "code",
   "execution_count": 65,
   "metadata": {
    "ExecuteTime": {
     "end_time": "2018-03-24T14:07:01.144544Z",
     "start_time": "2018-03-24T14:07:01.131671Z"
    }
   },
   "outputs": [],
   "source": [
    "Reshape?"
   ]
  },
  {
   "cell_type": "code",
   "execution_count": 83,
   "metadata": {
    "ExecuteTime": {
     "end_time": "2018-03-24T14:21:08.360653Z",
     "start_time": "2018-03-24T14:21:08.305620Z"
    }
   },
   "outputs": [],
   "source": [
    "def make_autoencoder(n=100):\n",
    "    \n",
    "    enc_inp = Input(shape=(28, 28, 1))\n",
    "    enc_conv1 = Conv2D(32, 7, activation='relu', padding='same')(enc_inp)\n",
    "    enc_pool1 = MaxPool2D(2,  padding='same')(enc_conv1)\n",
    "    enc_conv2 = Conv2D(32, 3, activation='relu',  padding='same')(enc_pool1)\n",
    "    enc_pool2 = MaxPool2D(2,  padding='same')(enc_conv2)\n",
    "    enc_conv3 = Conv2D(1, 7, activation='relu',  padding='same')(enc_pool2)\n",
    "    enc_flatten = Flatten()(enc_conv3)\n",
    "    encoder = Model(inputs=enc_inp, outputs=enc_flatten)\n",
    "    \n",
    "    dec_inp = Input(shape=(49, ))\n",
    "    dec_reshape = Reshape((7, 7, 1))(dec_inp)\n",
    "    dec_conv1 = Conv2D(32, 7, activation='relu',  padding='same')(dec_reshape)\n",
    "    dec_up1 = UpSampling2D((2, 2))(dec_conv1)\n",
    "    dec_conv2 = Conv2D(128, 2, activation='relu',  padding='same')(dec_up1)\n",
    "    dec_up2 = UpSampling2D((2, 2))(dec_conv2)\n",
    "    dec_conv3 = Conv2D(1, (7, 7), padding='same', activation='sigmoid')(dec_up2)\n",
    "    decoder = Model(inputs=dec_inp, outputs=dec_conv3)\n",
    "    \n",
    "    autoenc = Model(inputs=enc_inp, outputs=decoder(encoder(enc_inp)))\n",
    "    \n",
    "    return encoder, decoder, autoenc\n",
    "    \n",
    "#     dec_inp = Input(shape=(96, ))\n",
    "#     dec_reshape = Reshape(())"
   ]
  },
  {
   "cell_type": "code",
   "execution_count": 84,
   "metadata": {
    "ExecuteTime": {
     "end_time": "2018-03-24T14:21:09.186437Z",
     "start_time": "2018-03-24T14:21:08.890359Z"
    }
   },
   "outputs": [],
   "source": [
    "enc, dec, autoenc = make_autoencoder()"
   ]
  },
  {
   "cell_type": "code",
   "execution_count": 85,
   "metadata": {
    "ExecuteTime": {
     "end_time": "2018-03-24T14:21:09.740298Z",
     "start_time": "2018-03-24T14:21:09.661985Z"
    }
   },
   "outputs": [],
   "source": [
    "autoenc.compile(optimizer='adam', loss='binary_crossentropy')"
   ]
  },
  {
   "cell_type": "code",
   "execution_count": 87,
   "metadata": {
    "ExecuteTime": {
     "end_time": "2018-03-24T14:22:21.573644Z",
     "start_time": "2018-03-24T14:22:21.568947Z"
    }
   },
   "outputs": [],
   "source": [
    "autoenc.fit(x_train, x_train)"
   ]
  },
  {
   "cell_type": "code",
   "execution_count": null,
   "metadata": {},
   "outputs": [],
   "source": []
  }
 ],
 "metadata": {
  "kernelspec": {
   "display_name": "Python 3",
   "language": "python",
   "name": "python3"
  },
  "language_info": {
   "codemirror_mode": {
    "name": "ipython",
    "version": 3
   },
   "file_extension": ".py",
   "mimetype": "text/x-python",
   "name": "python",
   "nbconvert_exporter": "python",
   "pygments_lexer": "ipython3",
   "version": "3.6.3"
  },
  "toc": {
   "nav_menu": {},
   "number_sections": true,
   "sideBar": true,
   "skip_h1_title": false,
   "toc_cell": true,
   "toc_position": {},
   "toc_section_display": "block",
   "toc_window_display": false
  }
 },
 "nbformat": 4,
 "nbformat_minor": 2
}
