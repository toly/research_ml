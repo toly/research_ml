{
 "cells": [
  {
   "cell_type": "markdown",
   "metadata": {
    "toc": true
   },
   "source": [
    "<h1>Table of Contents<span class=\"tocSkip\"></span></h1>\n",
    "<div class=\"toc\" style=\"margin-top: 1em;\"><ul class=\"toc-item\"></ul></div>"
   ]
  },
  {
   "cell_type": "code",
   "execution_count": 40,
   "metadata": {
    "ExecuteTime": {
     "end_time": "2017-11-23T07:03:05.595641Z",
     "start_time": "2017-11-23T07:03:04.413662Z"
    }
   },
   "outputs": [],
   "source": [
    "from collections import Counter\n",
    "\n",
    "import numpy as np\n",
    "import pandas as pd\n",
    "\n",
    "from sklearn.metrics import log_loss"
   ]
  },
  {
   "cell_type": "code",
   "execution_count": 2,
   "metadata": {
    "ExecuteTime": {
     "end_time": "2017-11-23T06:32:12.865833Z",
     "start_time": "2017-11-23T06:32:12.860575Z"
    }
   },
   "outputs": [],
   "source": [
    "ROWS = 1000\n",
    "OUTPUTS = 5"
   ]
  },
  {
   "cell_type": "code",
   "execution_count": 11,
   "metadata": {
    "ExecuteTime": {
     "end_time": "2017-11-23T06:34:23.624747Z",
     "start_time": "2017-11-23T06:34:23.617932Z"
    }
   },
   "outputs": [],
   "source": [
    "y_true_ = np.random.rand(ROWS, OUTPUTS)\n",
    "y_true = y_true_.argmax(axis=1)"
   ]
  },
  {
   "cell_type": "code",
   "execution_count": 12,
   "metadata": {
    "ExecuteTime": {
     "end_time": "2017-11-23T06:34:24.403345Z",
     "start_time": "2017-11-23T06:34:24.398874Z"
    }
   },
   "outputs": [],
   "source": [
    "y_pred = np.random.rand(ROWS, OUTPUTS)"
   ]
  },
  {
   "cell_type": "code",
   "execution_count": 13,
   "metadata": {
    "ExecuteTime": {
     "end_time": "2017-11-23T06:34:30.942411Z",
     "start_time": "2017-11-23T06:34:30.934495Z"
    }
   },
   "outputs": [
    {
     "data": {
      "text/plain": [
       "1.8838672317555873"
      ]
     },
     "execution_count": 13,
     "metadata": {},
     "output_type": "execute_result"
    }
   ],
   "source": [
    "log_loss(y_true, y_pred)"
   ]
  },
  {
   "cell_type": "code",
   "execution_count": 14,
   "metadata": {
    "ExecuteTime": {
     "end_time": "2017-11-23T06:34:41.413593Z",
     "start_time": "2017-11-23T06:34:41.401822Z"
    }
   },
   "outputs": [
    {
     "data": {
      "text/plain": [
       "1.0738042502615321"
      ]
     },
     "execution_count": 14,
     "metadata": {},
     "output_type": "execute_result"
    }
   ],
   "source": [
    "log_loss(y_true, y_true_)"
   ]
  },
  {
   "cell_type": "code",
   "execution_count": 15,
   "metadata": {
    "ExecuteTime": {
     "end_time": "2017-11-23T06:37:31.533675Z",
     "start_time": "2017-11-23T06:37:31.527012Z"
    }
   },
   "outputs": [
    {
     "data": {
      "text/plain": [
       "0.34300851741870664"
      ]
     },
     "execution_count": 15,
     "metadata": {},
     "output_type": "execute_result"
    }
   ],
   "source": [
    "np.exp(-1.07)"
   ]
  },
  {
   "cell_type": "code",
   "execution_count": 16,
   "metadata": {
    "ExecuteTime": {
     "end_time": "2017-11-23T06:38:19.942816Z",
     "start_time": "2017-11-23T06:38:19.936856Z"
    }
   },
   "outputs": [
    {
     "data": {
      "text/plain": [
       "0.2"
      ]
     },
     "execution_count": 16,
     "metadata": {},
     "output_type": "execute_result"
    }
   ],
   "source": [
    "1./5"
   ]
  },
  {
   "cell_type": "code",
   "execution_count": 17,
   "metadata": {
    "ExecuteTime": {
     "end_time": "2017-11-23T06:46:27.648622Z",
     "start_time": "2017-11-23T06:46:27.641000Z"
    }
   },
   "outputs": [
    {
     "data": {
      "text/plain": [
       "0.22313016014842982"
      ]
     },
     "execution_count": 17,
     "metadata": {},
     "output_type": "execute_result"
    }
   ],
   "source": [
    "np.exp(-1.5)"
   ]
  },
  {
   "cell_type": "code",
   "execution_count": 20,
   "metadata": {
    "ExecuteTime": {
     "end_time": "2017-11-23T06:47:53.750248Z",
     "start_time": "2017-11-23T06:47:53.741133Z"
    }
   },
   "outputs": [
    {
     "data": {
      "text/plain": [
       "[(0, 230), (1, 198), (2, 194), (4, 193), (3, 185)]"
      ]
     },
     "execution_count": 20,
     "metadata": {},
     "output_type": "execute_result"
    }
   ],
   "source": [
    "Counter(y_true).most_common()"
   ]
  },
  {
   "cell_type": "code",
   "execution_count": 22,
   "metadata": {
    "ExecuteTime": {
     "end_time": "2017-11-23T06:48:37.065971Z",
     "start_time": "2017-11-23T06:48:37.062679Z"
    }
   },
   "outputs": [],
   "source": []
  },
  {
   "cell_type": "code",
   "execution_count": 37,
   "metadata": {
    "ExecuteTime": {
     "end_time": "2017-11-23T06:54:37.979551Z",
     "start_time": "2017-11-23T06:54:37.962699Z"
    }
   },
   "outputs": [
    {
     "name": "stdout",
     "output_type": "stream",
     "text": [
      "0 26.5948578241\n",
      "1 27.7000986687\n",
      "2 27.8382537743\n",
      "3 28.1491027619\n",
      "4 27.8727925507\n"
     ]
    }
   ],
   "source": [
    "for i in range(OUTPUTS):\n",
    "    y_freq = np.zeros((ROWS, OUTPUTS))\n",
    "    y_freq[:, i] = 1\n",
    "    print(i, log_loss(y_true, y_freq))"
   ]
  },
  {
   "cell_type": "code",
   "execution_count": 25,
   "metadata": {
    "ExecuteTime": {
     "end_time": "2017-11-23T06:48:49.376543Z",
     "start_time": "2017-11-23T06:48:49.367855Z"
    }
   },
   "outputs": [
    {
     "data": {
      "text/plain": [
       "array([[ 1.,  0.,  0.,  0.,  0.],\n",
       "       [ 1.,  0.,  0.,  0.,  0.],\n",
       "       [ 1.,  0.,  0.,  0.,  0.],\n",
       "       ..., \n",
       "       [ 1.,  0.,  0.,  0.,  0.],\n",
       "       [ 1.,  0.,  0.,  0.,  0.],\n",
       "       [ 1.,  0.,  0.,  0.,  0.]])"
      ]
     },
     "execution_count": 25,
     "metadata": {},
     "output_type": "execute_result"
    }
   ],
   "source": [
    "y_freq"
   ]
  },
  {
   "cell_type": "code",
   "execution_count": 26,
   "metadata": {
    "ExecuteTime": {
     "end_time": "2017-11-23T06:49:06.421698Z",
     "start_time": "2017-11-23T06:49:06.411469Z"
    }
   },
   "outputs": [
    {
     "data": {
      "text/plain": [
       "26.594857824081235"
      ]
     },
     "execution_count": 26,
     "metadata": {},
     "output_type": "execute_result"
    }
   ],
   "source": [
    "log_loss(y_true, y_freq)"
   ]
  },
  {
   "cell_type": "code",
   "execution_count": 31,
   "metadata": {
    "ExecuteTime": {
     "end_time": "2017-11-23T06:52:09.305921Z",
     "start_time": "2017-11-23T06:52:09.296132Z"
    }
   },
   "outputs": [
    {
     "data": {
      "text/plain": [
       "2.3025850929940455"
      ]
     },
     "execution_count": 31,
     "metadata": {},
     "output_type": "execute_result"
    }
   ],
   "source": [
    "log_loss([0, 1], [[0.1, 0.9], [0.9, 0.1]])"
   ]
  },
  {
   "cell_type": "code",
   "execution_count": 33,
   "metadata": {
    "ExecuteTime": {
     "end_time": "2017-11-23T06:52:49.679055Z",
     "start_time": "2017-11-23T06:52:49.672766Z"
    }
   },
   "outputs": [
    {
     "data": {
      "text/plain": [
       "-0.10536051565782628"
      ]
     },
     "execution_count": 33,
     "metadata": {},
     "output_type": "execute_result"
    }
   ],
   "source": [
    "np.log(0.9)"
   ]
  },
  {
   "cell_type": "code",
   "execution_count": 39,
   "metadata": {
    "ExecuteTime": {
     "end_time": "2017-11-23T06:55:11.676312Z",
     "start_time": "2017-11-23T06:55:11.667463Z"
    }
   },
   "outputs": [
    {
     "data": {
      "text/plain": [
       "1.8795288165390832e-12"
      ]
     },
     "execution_count": 39,
     "metadata": {},
     "output_type": "execute_result"
    }
   ],
   "source": [
    "np.exp(-27)"
   ]
  },
  {
   "cell_type": "code",
   "execution_count": null,
   "metadata": {},
   "outputs": [],
   "source": []
  }
 ],
 "metadata": {
  "kernelspec": {
   "display_name": "Python 3",
   "language": "python",
   "name": "python3"
  },
  "language_info": {
   "codemirror_mode": {
    "name": "ipython",
    "version": 3
   },
   "file_extension": ".py",
   "mimetype": "text/x-python",
   "name": "python",
   "nbconvert_exporter": "python",
   "pygments_lexer": "ipython3",
   "version": "3.6.3"
  },
  "toc": {
   "nav_menu": {},
   "number_sections": true,
   "sideBar": true,
   "skip_h1_title": false,
   "toc_cell": true,
   "toc_position": {},
   "toc_section_display": "block",
   "toc_window_display": true
  }
 },
 "nbformat": 4,
 "nbformat_minor": 2
}
